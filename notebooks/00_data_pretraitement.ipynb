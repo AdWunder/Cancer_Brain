{
 "cells": [
  {
   "cell_type": "markdown",
   "id": "bf3af533",
   "metadata": {},
   "source": [
    "### Data Augmentation & Preprocessing\n",
    "\n",
    "\n",
    "#### Image Augmentation\n",
    "\n",
    "The dataset was augmented using Keras's ImageDataGenerator to enhance diversity and robustness. Below are the parameters used for augmentation:\n"
   ]
  },
  {
   "cell_type": "code",
   "execution_count": null,
   "id": "ef4e4b40",
   "metadata": {},
   "outputs": [],
   "source": [
    "from keras.preprocessing.image import ImageDataGenerator\n",
    "\n",
    "datagen = ImageDataGenerator(\n",
    "    rotation_range=10,\n",
    "    width_shift_range=0.1,\n",
    "    height_shift_range=0.1,\n",
    "    shear_range=0.1,\n",
    "    zoom_range=0.1,\n",
    "    horizontal_flip=True,\n",
    "    fill_mode='nearest',\n",
    "    brightness_range=[0.2, 1.2]\n",
    ")"
   ]
  },
  {
   "cell_type": "markdown",
   "id": "ac87a71d",
   "metadata": {},
   "source": [
    "#### The augmentations include:\n",
    "\n",
    "- \tRotation: Up to 10 degrees.\n",
    "- \tWidth & Height Shift: Up to 10% of the total image size.\n",
    "- \tShearing & Zooming: 10% variation.\n",
    "- \tHorizontal Flip: Randomly flips images for additional diversity.\n",
    "- \tBrightness Adjustment: Ranges from 0.2 to 1.2 for varying light conditions.\n",
    "\n",
    "\n",
    "#### Image Cropping\n",
    "\n",
    "- \tAll images were resized to a consistent 224x225 pixels"
   ]
  }
 ],
 "metadata": {
  "kernelspec": {
   "display_name": ".venv",
   "language": "python",
   "name": "python3"
  },
  "language_info": {
   "name": "python",
   "version": "3.11.13"
  }
 },
 "nbformat": 4,
 "nbformat_minor": 5
}
