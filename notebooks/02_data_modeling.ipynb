{
 "cells": [
  {
   "cell_type": "markdown",
   "id": "23d3371d",
   "metadata": {},
   "source": [
    "# Brain Cancer Classifier \n",
    "\n",
    "#### Data Modeling - Machine Leaning \n",
    "\n",
    "----"
   ]
  },
  {
   "cell_type": "markdown",
   "id": "85224e6c",
   "metadata": {},
   "source": [
    "### Loading Dataset\n",
    "\n",
    "We are gonna to use a specific dataset from HuggingFace : \"Alwaly/Brain_Cancer-cancer\" and the preprocessed one that we save from 01_data_prep.ipynb\n"
   ]
  },
  {
   "cell_type": "code",
   "execution_count": 5,
   "id": "52e5938d",
   "metadata": {},
   "outputs": [],
   "source": [
    "# Loading the preprocessed dataset\n",
    "from datasets import DatasetDict\n",
    "from collections import Counter\n",
    "\n",
    "ds = DatasetDict.load_from_disk(\"/Users/adwunder/Data Science Projects/Cancer_Brain/data/brain_cancer_dataset\")"
   ]
  },
  {
   "cell_type": "code",
   "execution_count": 6,
   "id": "969a541f",
   "metadata": {},
   "outputs": [
    {
     "data": {
      "text/plain": [
       "DatasetDict({\n",
       "    train: Dataset({\n",
       "        features: ['image', 'label'],\n",
       "        num_rows: 12000\n",
       "    })\n",
       "    validation: Dataset({\n",
       "        features: ['image', 'label'],\n",
       "        num_rows: 1500\n",
       "    })\n",
       "    test: Dataset({\n",
       "        features: ['image', 'label'],\n",
       "        num_rows: 1500\n",
       "    })\n",
       "})"
      ]
     },
     "execution_count": 6,
     "metadata": {},
     "output_type": "execute_result"
    }
   ],
   "source": [
    "ds"
   ]
  },
  {
   "cell_type": "markdown",
   "id": "7e492c13",
   "metadata": {},
   "source": [
    "-----\n",
    "\n",
    "## Creation of ML Model \n",
    "\n",
    "##### (Based on a Neural Network)"
   ]
  }
 ],
 "metadata": {
  "kernelspec": {
   "display_name": "base",
   "language": "python",
   "name": "python3"
  },
  "language_info": {
   "codemirror_mode": {
    "name": "ipython",
    "version": 3
   },
   "file_extension": ".py",
   "mimetype": "text/x-python",
   "name": "python",
   "nbconvert_exporter": "python",
   "pygments_lexer": "ipython3",
   "version": "3.12.7"
  }
 },
 "nbformat": 4,
 "nbformat_minor": 5
}
